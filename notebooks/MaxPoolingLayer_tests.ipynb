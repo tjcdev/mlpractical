{
 "cells": [
  {
   "cell_type": "code",
   "execution_count": 1,
   "metadata": {},
   "outputs": [],
   "source": [
    "import numpy as np\n",
    "from mlp.layers import MaxPooling2DLayer\n",
    "test_correct_target = np.load(\"../data/max_pooling_correct.npz\")\n",
    "test_inputs = test_correct_target['test_inputs']\n",
    "test_grads_wrt_outputs = test_correct_target['test_grads_wrt_outputs']\n",
    "layer_to_test = MaxPooling2DLayer(input_height=test_inputs.shape[2], input_width=test_inputs.shape[3], size=2, stride=2)\n",
    "fprop_preds = layer_to_test.fprop(inputs=test_inputs)\n",
    "# bprop_preds = layer_to_test.bprop(inputs=test_inputs, outputs=fprop_preds, grads_wrt_outputs=test_grads_wrt_outputs)"
   ]
  },
  {
   "cell_type": "code",
   "execution_count": 2,
   "metadata": {},
   "outputs": [
    {
     "name": "stdout",
     "output_type": "stream",
     "text": [
      "(2, 3, 4, 4)\n",
      "(2, 3, 4, 4)\n"
     ]
    }
   ],
   "source": [
    "print(fprop_preds.shape)\n",
    "print(test_correct_target['fprop_correct'].shape)"
   ]
  },
  {
   "cell_type": "code",
   "execution_count": 3,
   "metadata": {},
   "outputs": [
    {
     "ename": "NameError",
     "evalue": "name 'bprop_preds' is not defined",
     "output_type": "error",
     "traceback": [
      "\u001b[0;31m---------------------------------------------------------------------------\u001b[0m",
      "\u001b[0;31mNameError\u001b[0m                                 Traceback (most recent call last)",
      "\u001b[0;32m<ipython-input-3-0d16adda492f>\u001b[0m in \u001b[0;36m<module>\u001b[0;34m\u001b[0m\n\u001b[1;32m      1\u001b[0m \u001b[0mfprop_accuracy\u001b[0m \u001b[0;34m=\u001b[0m \u001b[0mnp\u001b[0m\u001b[0;34m.\u001b[0m\u001b[0mmean\u001b[0m\u001b[0;34m(\u001b[0m\u001b[0mnp\u001b[0m\u001b[0;34m.\u001b[0m\u001b[0mallclose\u001b[0m\u001b[0;34m(\u001b[0m\u001b[0mtest_correct_target\u001b[0m\u001b[0;34m[\u001b[0m\u001b[0;34m'fprop_correct'\u001b[0m\u001b[0;34m]\u001b[0m\u001b[0;34m,\u001b[0m \u001b[0mfprop_preds\u001b[0m\u001b[0;34m)\u001b[0m\u001b[0;34m)\u001b[0m\u001b[0;34m\u001b[0m\u001b[0m\n\u001b[0;32m----> 2\u001b[0;31m \u001b[0mbprop_accuracy\u001b[0m \u001b[0;34m=\u001b[0m \u001b[0mnp\u001b[0m\u001b[0;34m.\u001b[0m\u001b[0mmean\u001b[0m\u001b[0;34m(\u001b[0m\u001b[0mnp\u001b[0m\u001b[0;34m.\u001b[0m\u001b[0mallclose\u001b[0m\u001b[0;34m(\u001b[0m\u001b[0mtest_correct_target\u001b[0m\u001b[0;34m[\u001b[0m\u001b[0;34m'bprop_correct'\u001b[0m\u001b[0;34m]\u001b[0m\u001b[0;34m,\u001b[0m \u001b[0mbprop_preds\u001b[0m\u001b[0;34m)\u001b[0m\u001b[0;34m)\u001b[0m\u001b[0;34m\u001b[0m\u001b[0m\n\u001b[0m\u001b[1;32m      3\u001b[0m \u001b[0;34m\u001b[0m\u001b[0m\n\u001b[1;32m      4\u001b[0m \u001b[0;32mif\u001b[0m \u001b[0mfprop_accuracy\u001b[0m \u001b[0;34m==\u001b[0m \u001b[0;36m1.0\u001b[0m\u001b[0;34m:\u001b[0m\u001b[0;34m\u001b[0m\u001b[0m\n\u001b[1;32m      5\u001b[0m     \u001b[0mprint\u001b[0m\u001b[0;34m(\u001b[0m\u001b[0;34m\"Passed fprop test\"\u001b[0m\u001b[0;34m)\u001b[0m\u001b[0;34m\u001b[0m\u001b[0m\n",
      "\u001b[0;31mNameError\u001b[0m: name 'bprop_preds' is not defined"
     ]
    }
   ],
   "source": [
    "fprop_accuracy = np.mean(np.allclose(test_correct_target['fprop_correct'], fprop_preds))\n",
    "# bprop_accuracy = np.mean(np.allclose(test_correct_target['bprop_correct'], bprop_preds))\n",
    "\n",
    "if fprop_accuracy == 1.0:\n",
    "    print(\"Passed fprop test\")\n",
    "else:\n",
    "    print(\"Failed fprop test, correct outputs: {}, predicted_outputs: {}\".format(test_correct_target['fprop_correct'], fprop_preds))\n",
    "\n",
    "if bprop_accuracy == 1.0:\n",
    "    print(\"Passed bprop test\")\n",
    "else:\n",
    "    print(\"Failed bprop test, correct grads: {}, predicted grads: {}\".format(test_correct_target['bprop_correct'], bprop_preds))"
   ]
  },
  {
   "cell_type": "code",
   "execution_count": null,
   "metadata": {},
   "outputs": [],
   "source": []
  }
 ],
 "metadata": {
  "anaconda-cloud": {},
  "kernelspec": {
   "display_name": "Python 3",
   "language": "python",
   "name": "python3"
  },
  "language_info": {
   "codemirror_mode": {
    "name": "ipython",
    "version": 3
   },
   "file_extension": ".py",
   "mimetype": "text/x-python",
   "name": "python",
   "nbconvert_exporter": "python",
   "pygments_lexer": "ipython3",
   "version": "3.6.6"
  }
 },
 "nbformat": 4,
 "nbformat_minor": 1
}
