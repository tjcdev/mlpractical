{
 "cells": [
  {
   "cell_type": "code",
   "execution_count": 28,
   "metadata": {},
   "outputs": [],
   "source": [
    "from torch import nn\n",
    "from copy import deepcopy\n",
    "import torch\n",
    "import torch.nn as nn\n",
    "import torch.optim as optim\n",
    "import torch.nn.functional as F\n",
    "import torch.backends.cudnn as cudnn\n",
    "import torchvision\n",
    "import tqdm\n",
    "import os\n",
    "import numpy as np\n",
    "import time"
   ]
  },
  {
   "cell_type": "code",
   "execution_count": 29,
   "metadata": {},
   "outputs": [],
   "source": [
    "from numpy import genfromtxt\n",
    "def print_summary(experiments):\n",
    "    result = genfromtxt('../' + experiments + '/result_outputs/summary.csv', delimiter=',')\n",
    "    result = result[1:]\n",
    "    train_acc = result[:,0]\n",
    "    train_loss = result[:,1]\n",
    "    val_acc = result[:,2]\n",
    "    val_loss = result[:,3]\n",
    "    print(\"Training Accuracy: \" + str(train_acc[len(train_acc)-1]))\n",
    "    print(\"Training Loss: \" + str(train_loss[len(train_loss)-1]))\n",
    "    print(\"Validation Accuracy: \" + str(val_acc[len(val_acc)-1]))\n",
    "    print(\"Validation Loss: \" + str(val_loss[len(val_loss)-1]))"
   ]
  },
  {
   "cell_type": "markdown",
   "metadata": {},
   "source": [
    "# Filter 32, Stride 1"
   ]
  },
  {
   "cell_type": "code",
   "execution_count": 32,
   "metadata": {},
   "outputs": [
    {
     "data": {
      "text/plain": [
       "35.051429999999996"
      ]
     },
     "execution_count": 32,
     "metadata": {},
     "output_type": "execute_result"
    }
   ],
   "source": [
    "times = []\n",
    "for i in range(40):\n",
    "    state = torch.load(f=os.path.join('', \"../new_new_filter_32_stride_1/saved_models/train_model_\" + str(i).format(\"train_model\", str(0))), map_location='cpu')\n",
    "    times.append(float(state['epoch_time']))\n",
    "\n",
    "np.mean(times)"
   ]
  },
  {
   "cell_type": "code",
   "execution_count": 33,
   "metadata": {},
   "outputs": [
    {
     "name": "stdout",
     "output_type": "stream",
     "text": [
      "Training Accuracy: 0.91242\n",
      "Training Loss: 0.23267682\n",
      "Validation Accuracy: 0.8931645569620253\n",
      "Validation Loss: 0.31806812\n"
     ]
    }
   ],
   "source": [
    "print_summary('new_new_filter_32_stride_1')"
   ]
  },
  {
   "cell_type": "markdown",
   "metadata": {},
   "source": [
    "# Filter 32, Stride 2"
   ]
  },
  {
   "cell_type": "code",
   "execution_count": 5,
   "metadata": {},
   "outputs": [
    {
     "data": {
      "text/plain": [
       "11.14665"
      ]
     },
     "execution_count": 5,
     "metadata": {},
     "output_type": "execute_result"
    }
   ],
   "source": [
    "times = []\n",
    "for i in range(40):\n",
    "    state = torch.load(f=os.path.join('', \"../new_filter_32_stride_2/saved_models/train_model_\" + str(i).format(\"train_model\", str(0))), map_location='cpu')\n",
    "    times.append(float(state['epoch_time']))\n",
    "\n",
    "np.mean(times)"
   ]
  },
  {
   "cell_type": "code",
   "execution_count": 6,
   "metadata": {},
   "outputs": [
    {
     "name": "stdout",
     "output_type": "stream",
     "text": [
      "Training Accuracy: 0.9429699999999999\n",
      "Training Loss: 0.13514684\n",
      "Validation Accuracy: 0.8682911392405065\n",
      "Validation Loss: 0.5334657\n"
     ]
    }
   ],
   "source": [
    "print_summary('new_filter_32_stride_2')"
   ]
  },
  {
   "cell_type": "markdown",
   "metadata": {},
   "source": [
    "# Filter 32, Stride 4"
   ]
  },
  {
   "cell_type": "code",
   "execution_count": 7,
   "metadata": {},
   "outputs": [
    {
     "data": {
      "text/plain": [
       "7.748807500000001"
      ]
     },
     "execution_count": 7,
     "metadata": {},
     "output_type": "execute_result"
    }
   ],
   "source": [
    "times = []\n",
    "for i in range(40):\n",
    "    state = torch.load(f=os.path.join('', \"../new_filter_32_stride_4/saved_models/train_model_\" + str(i).format(\"train_model\", str(0))), map_location='cpu')\n",
    "    times.append(float(state['epoch_time']))\n",
    "\n",
    "np.mean(times)"
   ]
  },
  {
   "cell_type": "code",
   "execution_count": 8,
   "metadata": {},
   "outputs": [
    {
     "name": "stdout",
     "output_type": "stream",
     "text": [
      "Training Accuracy: 0.95127\n",
      "Training Loss: 0.11873166\n",
      "Validation Accuracy: 0.8618354430379748\n",
      "Validation Loss: 0.6591957\n"
     ]
    }
   ],
   "source": [
    "print_summary('filter_32_stride_4')"
   ]
  },
  {
   "cell_type": "markdown",
   "metadata": {},
   "source": [
    "# Filter 32, Stride 8"
   ]
  },
  {
   "cell_type": "code",
   "execution_count": 9,
   "metadata": {},
   "outputs": [
    {
     "data": {
      "text/plain": [
       "7.166669999999999"
      ]
     },
     "execution_count": 9,
     "metadata": {},
     "output_type": "execute_result"
    }
   ],
   "source": [
    "times = []\n",
    "for i in range(40):\n",
    "    state = torch.load(f=os.path.join('', \"../new_filter_32_stride_8/saved_models/train_model_\" + str(i).format(\"train_model\", str(0))), map_location='cpu')\n",
    "    times.append(float(state['epoch_time']))\n",
    "\n",
    "np.mean(times)"
   ]
  },
  {
   "cell_type": "code",
   "execution_count": 10,
   "metadata": {},
   "outputs": [
    {
     "name": "stdout",
     "output_type": "stream",
     "text": [
      "Training Accuracy: 0.02133\n",
      "Training Loss: 3.8501475\n",
      "Validation Accuracy: 0.020759493670886076\n",
      "Validation Loss: 3.850148\n"
     ]
    }
   ],
   "source": [
    "print_summary('new_filter_32_stride_8')"
   ]
  },
  {
   "cell_type": "markdown",
   "metadata": {},
   "source": [
    "# Filter 48, Stride 1"
   ]
  },
  {
   "cell_type": "code",
   "execution_count": 13,
   "metadata": {},
   "outputs": [
    {
     "data": {
      "text/plain": [
       "13.271987999999999"
      ]
     },
     "execution_count": 13,
     "metadata": {},
     "output_type": "execute_result"
    }
   ],
   "source": [
    "times = []\n",
    "for i in range(100):\n",
    "    state = torch.load(f=os.path.join('', \"../filter_48_stride_1/saved_models/train_model_\" + str(i).format(\"train_model\", str(0))), map_location='cpu')\n",
    "    times.append(float(state['epoch_time']))\n",
    "\n",
    "np.mean(times)"
   ]
  },
  {
   "cell_type": "code",
   "execution_count": 14,
   "metadata": {},
   "outputs": [
    {
     "name": "stdout",
     "output_type": "stream",
     "text": [
      "Training Accuracy: 0.9753000000000002\n",
      "Training Loss: 0.063247934\n",
      "Validation Accuracy: 0.861012658227848\n",
      "Validation Loss: 0.9797429\n"
     ]
    }
   ],
   "source": [
    "print_summary('filter_48_stride_1')"
   ]
  },
  {
   "cell_type": "markdown",
   "metadata": {},
   "source": [
    "# Filter 48, Stride 2"
   ]
  },
  {
   "cell_type": "code",
   "execution_count": 15,
   "metadata": {},
   "outputs": [
    {
     "data": {
      "text/plain": [
       "13.320861"
      ]
     },
     "execution_count": 15,
     "metadata": {},
     "output_type": "execute_result"
    }
   ],
   "source": [
    "times = []\n",
    "for i in range(100):\n",
    "    state = torch.load(f=os.path.join('', \"../filter_48_stride_2/saved_models/train_model_\" + str(i).format(\"train_model\", str(0))), map_location='cpu')\n",
    "    times.append(float(state['epoch_time']))\n",
    "\n",
    "np.mean(times)"
   ]
  },
  {
   "cell_type": "code",
   "execution_count": 16,
   "metadata": {},
   "outputs": [
    {
     "name": "stdout",
     "output_type": "stream",
     "text": [
      "Training Accuracy: 0.9767300000000001\n",
      "Training Loss: 0.058523946\n",
      "Validation Accuracy: 0.867405063291139\n",
      "Validation Loss: 0.9749954\n"
     ]
    }
   ],
   "source": [
    "print_summary('filter_48_stride_2')"
   ]
  },
  {
   "cell_type": "markdown",
   "metadata": {},
   "source": [
    "# Filter 64, Stride 1"
   ]
  },
  {
   "cell_type": "code",
   "execution_count": 17,
   "metadata": {},
   "outputs": [
    {
     "data": {
      "text/plain": [
       "17.16656"
      ]
     },
     "execution_count": 17,
     "metadata": {},
     "output_type": "execute_result"
    }
   ],
   "source": [
    "times = []\n",
    "for i in range(100):\n",
    "    state = torch.load(f=os.path.join('', \"../filter_64_stride_1/saved_models/train_model_\" + str(i).format(\"train_model\", str(0))), map_location='cpu')\n",
    "    times.append(float(state['epoch_time']))\n",
    "\n",
    "np.mean(times)"
   ]
  },
  {
   "cell_type": "code",
   "execution_count": 18,
   "metadata": {},
   "outputs": [
    {
     "name": "stdout",
     "output_type": "stream",
     "text": [
      "Training Accuracy: 0.9843200000000002\n",
      "Training Loss: 0.041512404\n",
      "Validation Accuracy: 0.8727848101265822\n",
      "Validation Loss: 1.040806\n"
     ]
    }
   ],
   "source": [
    "print_summary('filter_64_stride_1')"
   ]
  },
  {
   "cell_type": "markdown",
   "metadata": {},
   "source": [
    "# Filter 64, Stride 2 (only 60 epochs)"
   ]
  },
  {
   "cell_type": "code",
   "execution_count": 19,
   "metadata": {},
   "outputs": [
    {
     "data": {
      "text/plain": [
       "17.349304999999998"
      ]
     },
     "execution_count": 19,
     "metadata": {},
     "output_type": "execute_result"
    }
   ],
   "source": [
    "times = []\n",
    "for i in range(60):\n",
    "    state = torch.load(f=os.path.join('', \"../filter_64_stride_2/saved_models/train_model_\" + str(i).format(\"train_model\", str(0))), map_location='cpu')\n",
    "    times.append(float(state['epoch_time']))\n",
    "\n",
    "np.mean(times)"
   ]
  },
  {
   "cell_type": "code",
   "execution_count": 20,
   "metadata": {},
   "outputs": [
    {
     "name": "stdout",
     "output_type": "stream",
     "text": [
      "Training Accuracy: 0.93989\n",
      "Training Loss: 0.14391656\n",
      "Validation Accuracy: 0.8802531645569621\n",
      "Validation Loss: 0.42007378\n"
     ]
    }
   ],
   "source": [
    "print_summary('filter_64_stride_2')"
   ]
  },
  {
   "cell_type": "markdown",
   "metadata": {},
   "source": [
    "# Filter 64, Stride 3"
   ]
  },
  {
   "cell_type": "code",
   "execution_count": 21,
   "metadata": {},
   "outputs": [
    {
     "data": {
      "text/plain": [
       "17.934396"
      ]
     },
     "execution_count": 21,
     "metadata": {},
     "output_type": "execute_result"
    }
   ],
   "source": [
    "times = []\n",
    "for i in range(100):\n",
    "    state = torch.load(f=os.path.join('', \"../filter_64_stride_3/saved_models/train_model_\" + str(i).format(\"train_model\", str(0))), map_location='cpu')\n",
    "    times.append(float(state['epoch_time']))\n",
    "\n",
    "np.mean(times)"
   ]
  },
  {
   "cell_type": "code",
   "execution_count": 22,
   "metadata": {},
   "outputs": [
    {
     "name": "stdout",
     "output_type": "stream",
     "text": [
      "Training Accuracy: 0.9846000000000001\n",
      "Training Loss: 0.04211294\n",
      "Validation Accuracy: 0.8653164556962025\n",
      "Validation Loss: 1.0735285\n"
     ]
    }
   ],
   "source": [
    "print_summary('filter_64_stride_3')"
   ]
  },
  {
   "cell_type": "markdown",
   "metadata": {},
   "source": [
    "# Filter 96, Stride 4"
   ]
  },
  {
   "cell_type": "code",
   "execution_count": 23,
   "metadata": {},
   "outputs": [
    {
     "data": {
      "text/plain": [
       "32.775546"
      ]
     },
     "execution_count": 23,
     "metadata": {},
     "output_type": "execute_result"
    }
   ],
   "source": [
    "times = []\n",
    "for i in range(100):\n",
    "    state = torch.load(f=os.path.join('', \"../filter_96_stride_4/saved_models/train_model_\" + str(i).format(\"train_model\", str(0))), map_location='cpu')\n",
    "    times.append(float(state['epoch_time']))\n",
    "\n",
    "np.mean(times)"
   ]
  },
  {
   "cell_type": "code",
   "execution_count": 24,
   "metadata": {},
   "outputs": [
    {
     "name": "stdout",
     "output_type": "stream",
     "text": [
      "Training Accuracy: 0.98975\n",
      "Training Loss: 0.02876069\n",
      "Validation Accuracy: 0.869620253164557\n",
      "Validation Loss: 1.008094\n"
     ]
    }
   ],
   "source": [
    "print_summary('filter_96_stride_4')"
   ]
  },
  {
   "cell_type": "markdown",
   "metadata": {},
   "source": [
    "# Filter 128, Stride 1"
   ]
  },
  {
   "cell_type": "code",
   "execution_count": 26,
   "metadata": {},
   "outputs": [
    {
     "data": {
      "text/plain": [
       "47.6188"
      ]
     },
     "execution_count": 26,
     "metadata": {},
     "output_type": "execute_result"
    }
   ],
   "source": [
    "times = []\n",
    "for i in range(43):\n",
    "    state = torch.load(f=os.path.join('', \"../filter_128_stride_1/saved_models/train_model_\" + str(i).format(\"train_model\", str(0))), map_location='cpu')\n",
    "    times.append(float(state['epoch_time']))\n",
    "\n",
    "np.mean(times)"
   ]
  },
  {
   "cell_type": "code",
   "execution_count": 27,
   "metadata": {},
   "outputs": [
    {
     "name": "stdout",
     "output_type": "stream",
     "text": [
      "Training Accuracy: 0.9778800000000001\n",
      "Training Loss: 0.056579538\n",
      "Validation Accuracy: 0.8727215189873417\n",
      "Validation Loss: 0.7938718\n"
     ]
    }
   ],
   "source": [
    "print_summary('filter_128_stride_1')"
   ]
  },
  {
   "cell_type": "markdown",
   "metadata": {},
   "source": [
    "# Filter 32, Dil 1"
   ]
  },
  {
   "cell_type": "code",
   "execution_count": 34,
   "metadata": {},
   "outputs": [
    {
     "data": {
      "text/plain": [
       "35.027547500000004"
      ]
     },
     "execution_count": 34,
     "metadata": {},
     "output_type": "execute_result"
    }
   ],
   "source": [
    "times = []\n",
    "for i in range(40):\n",
    "    state = torch.load(f=os.path.join('', \"../new_filter_32_dil_1/saved_models/train_model_\" + str(i).format(\"train_model\", str(0))), map_location='cpu')\n",
    "    times.append(float(state['epoch_time']))\n",
    "\n",
    "np.mean(times)"
   ]
  },
  {
   "cell_type": "code",
   "execution_count": 35,
   "metadata": {},
   "outputs": [
    {
     "name": "stdout",
     "output_type": "stream",
     "text": [
      "Training Accuracy: 0.9113199999999999\n",
      "Training Loss: 0.23370959\n",
      "Validation Accuracy: 0.8918987341772153\n",
      "Validation Loss: 0.31519985\n"
     ]
    }
   ],
   "source": [
    "print_summary('new_filter_32_dil_1')"
   ]
  },
  {
   "cell_type": "markdown",
   "metadata": {},
   "source": [
    "# Filter 32, Dil 2"
   ]
  },
  {
   "cell_type": "code",
   "execution_count": 37,
   "metadata": {},
   "outputs": [
    {
     "data": {
      "text/plain": [
       "33.26956470588236"
      ]
     },
     "execution_count": 37,
     "metadata": {},
     "output_type": "execute_result"
    }
   ],
   "source": [
    "times = []\n",
    "for i in range(34):\n",
    "    state = torch.load(f=os.path.join('', \"../new_filter_32_dil_2/saved_models/train_model_\" + str(i).format(\"train_model\", str(0))), map_location='cpu')\n",
    "    times.append(float(state['epoch_time']))\n",
    "\n",
    "np.mean(times)"
   ]
  },
  {
   "cell_type": "code",
   "execution_count": 38,
   "metadata": {},
   "outputs": [
    {
     "name": "stdout",
     "output_type": "stream",
     "text": [
      "Training Accuracy: 0.9226899999999999\n",
      "Training Loss: 0.1947315\n",
      "Validation Accuracy: 0.8882911392405065\n",
      "Validation Loss: 0.3521789\n"
     ]
    }
   ],
   "source": [
    "print_summary('new_filter_32_dil_2')"
   ]
  },
  {
   "cell_type": "markdown",
   "metadata": {},
   "source": [
    "# Filter 32, Dil 3"
   ]
  },
  {
   "cell_type": "code",
   "execution_count": 39,
   "metadata": {},
   "outputs": [
    {
     "data": {
      "text/plain": [
       "26.14402"
      ]
     },
     "execution_count": 39,
     "metadata": {},
     "output_type": "execute_result"
    }
   ],
   "source": [
    "times = []\n",
    "for i in range(40):\n",
    "    state = torch.load(f=os.path.join('', \"../new_filter_32_dil_3/saved_models/train_model_\" + str(i).format(\"train_model\", str(0))), map_location='cpu')\n",
    "    times.append(float(state['epoch_time']))\n",
    "\n",
    "np.mean(times)"
   ]
  },
  {
   "cell_type": "code",
   "execution_count": 40,
   "metadata": {},
   "outputs": [
    {
     "name": "stdout",
     "output_type": "stream",
     "text": [
      "Training Accuracy: 0.9349\n",
      "Training Loss: 0.15583359\n",
      "Validation Accuracy: 0.8817088607594937\n",
      "Validation Loss: 0.43715218\n"
     ]
    }
   ],
   "source": [
    "print_summary('new_filter_32_dil_3')"
   ]
  },
  {
   "cell_type": "markdown",
   "metadata": {},
   "source": [
    "# Filter 32, Dil 4"
   ]
  },
  {
   "cell_type": "code",
   "execution_count": 41,
   "metadata": {},
   "outputs": [
    {
     "data": {
      "text/plain": [
       "18.986697500000002"
      ]
     },
     "execution_count": 41,
     "metadata": {},
     "output_type": "execute_result"
    }
   ],
   "source": [
    "times = []\n",
    "for i in range(40):\n",
    "    state = torch.load(f=os.path.join('', \"../new_filter_32_dil_4/saved_models/train_model_\" + str(i).format(\"train_model\", str(0))), map_location='cpu')\n",
    "    times.append(float(state['epoch_time']))\n",
    "\n",
    "np.mean(times)"
   ]
  },
  {
   "cell_type": "code",
   "execution_count": 42,
   "metadata": {},
   "outputs": [
    {
     "name": "stdout",
     "output_type": "stream",
     "text": [
      "Training Accuracy: 0.9370799999999999\n",
      "Training Loss: 0.15049209\n",
      "Validation Accuracy: 0.8700632911392405\n",
      "Validation Loss: 0.48891518\n"
     ]
    }
   ],
   "source": [
    "print_summary('new_filter_32_dil_4')"
   ]
  },
  {
   "cell_type": "code",
   "execution_count": null,
   "metadata": {},
   "outputs": [],
   "source": []
  }
 ],
 "metadata": {
  "kernelspec": {
   "display_name": "Python 3",
   "language": "python",
   "name": "python3"
  },
  "language_info": {
   "codemirror_mode": {
    "name": "ipython",
    "version": 3
   },
   "file_extension": ".py",
   "mimetype": "text/x-python",
   "name": "python",
   "nbconvert_exporter": "python",
   "pygments_lexer": "ipython3",
   "version": "3.6.7"
  }
 },
 "nbformat": 4,
 "nbformat_minor": 2
}
