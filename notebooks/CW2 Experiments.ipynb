{
 "cells": [
  {
   "cell_type": "code",
   "execution_count": 1,
   "metadata": {},
   "outputs": [],
   "source": [
    "from torch import nn\n",
    "from copy import deepcopy\n",
    "import torch\n",
    "import torch.nn as nn\n",
    "import torch.optim as optim\n",
    "import torch.nn.functional as F\n",
    "import torch.backends.cudnn as cudnn\n",
    "import torchvision\n",
    "import tqdm\n",
    "import os\n",
    "import numpy as np\n",
    "import time"
   ]
  },
  {
   "cell_type": "code",
   "execution_count": 2,
   "metadata": {},
   "outputs": [],
   "source": [
    "from numpy import genfromtxt\n",
    "def print_summary(experiments):\n",
    "    result = genfromtxt('../' + experiments + '/result_outputs/summary.csv', delimiter=',')\n",
    "    result = result[1:]\n",
    "    train_acc = result[:,0]\n",
    "    train_loss = result[:,1]\n",
    "    val_acc = result[:,2]\n",
    "    val_loss = result[:,3]\n",
    "    print(\"Training Accuracy: \" + str(train_acc[len(train_acc)-1]))\n",
    "    print(\"Training Loss: \" + str(train_loss[len(train_loss)-1]))\n",
    "    print(\"Validation Accuracy: \" + str(val_acc[len(val_acc)-1]))\n",
    "    print(\"Validation Loss: \" + str(val_loss[len(val_loss)-1]))"
   ]
  },
  {
   "cell_type": "markdown",
   "metadata": {},
   "source": [
    "# Filter 32, Stride 1"
   ]
  },
  {
   "cell_type": "code",
   "execution_count": 3,
   "metadata": {},
   "outputs": [
    {
     "data": {
      "text/plain": [
       "8.94137"
      ]
     },
     "execution_count": 3,
     "metadata": {},
     "output_type": "execute_result"
    }
   ],
   "source": [
    "times = []\n",
    "for i in range(100):\n",
    "    state = torch.load(f=os.path.join('', \"../filter_32_stride_1/saved_models/train_model_\" + str(i).format(\"train_model\", str(0))), map_location='cpu')\n",
    "    times.append(float(state['epoch_time']))\n",
    "\n",
    "np.mean(times)"
   ]
  },
  {
   "cell_type": "code",
   "execution_count": 4,
   "metadata": {},
   "outputs": [
    {
     "name": "stdout",
     "output_type": "stream",
     "text": [
      "Training Accuracy: 0.94926\n",
      "Training Loss: 0.12164847\n",
      "Validation Accuracy: 0.8565189873417722\n",
      "Validation Loss: 0.6807766\n"
     ]
    }
   ],
   "source": [
    "print_summary('filter_32_stride_1')"
   ]
  },
  {
   "cell_type": "markdown",
   "metadata": {},
   "source": [
    "# Filter 32, Dil 2"
   ]
  },
  {
   "cell_type": "code",
   "execution_count": 5,
   "metadata": {},
   "outputs": [
    {
     "data": {
      "text/plain": [
       "24.504952"
      ]
     },
     "execution_count": 5,
     "metadata": {},
     "output_type": "execute_result"
    }
   ],
   "source": [
    "times = []\n",
    "for i in range(100):\n",
    "    state = torch.load(f=os.path.join('', \"../filter_32_dil_2/saved_models/train_model_\" + str(i).format(\"train_model\", str(0))), map_location='cpu')\n",
    "    times.append(float(state['epoch_time']))\n",
    "\n",
    "np.mean(times)"
   ]
  },
  {
   "cell_type": "code",
   "execution_count": 6,
   "metadata": {},
   "outputs": [
    {
     "name": "stdout",
     "output_type": "stream",
     "text": [
      "Training Accuracy: 0.9723900000000001\n",
      "Training Loss: 0.07113818\n",
      "Validation Accuracy: 0.8665189873417724\n",
      "Validation Loss: 0.8855401\n"
     ]
    }
   ],
   "source": [
    "print_summary('filter_32_dil_2')"
   ]
  },
  {
   "cell_type": "markdown",
   "metadata": {},
   "source": [
    "# Filter 32, Stride 2"
   ]
  },
  {
   "cell_type": "code",
   "execution_count": 7,
   "metadata": {},
   "outputs": [
    {
     "data": {
      "text/plain": [
       "8.766522"
      ]
     },
     "execution_count": 7,
     "metadata": {},
     "output_type": "execute_result"
    }
   ],
   "source": [
    "times = []\n",
    "for i in range(100):\n",
    "    state = torch.load(f=os.path.join('', \"../filter_32_stride_2/saved_models/train_model_\" + str(i).format(\"train_model\", str(0))), map_location='cpu')\n",
    "    times.append(float(state['epoch_time']))\n",
    "\n",
    "np.mean(times)"
   ]
  },
  {
   "cell_type": "code",
   "execution_count": 8,
   "metadata": {},
   "outputs": [
    {
     "name": "stdout",
     "output_type": "stream",
     "text": [
      "Training Accuracy: 0.9493899999999998\n",
      "Training Loss: 0.12266787\n",
      "Validation Accuracy: 0.8627215189873418\n",
      "Validation Loss: 0.65748984\n"
     ]
    }
   ],
   "source": [
    "print_summary('filter_32_stride_2')"
   ]
  },
  {
   "cell_type": "markdown",
   "metadata": {},
   "source": [
    "# Filter 32, Stride 3"
   ]
  },
  {
   "cell_type": "code",
   "execution_count": 9,
   "metadata": {},
   "outputs": [
    {
     "data": {
      "text/plain": [
       "8.771217"
      ]
     },
     "execution_count": 9,
     "metadata": {},
     "output_type": "execute_result"
    }
   ],
   "source": [
    "times = []\n",
    "for i in range(100):\n",
    "    state = torch.load(f=os.path.join('', \"../filter_32_stride_3/saved_models/train_model_\" + str(i).format(\"train_model\", str(0))), map_location='cpu')\n",
    "    times.append(float(state['epoch_time']))\n",
    "\n",
    "np.mean(times)"
   ]
  },
  {
   "cell_type": "code",
   "execution_count": 10,
   "metadata": {},
   "outputs": [
    {
     "name": "stdout",
     "output_type": "stream",
     "text": [
      "Training Accuracy: 0.95021\n",
      "Training Loss: 0.12058753\n",
      "Validation Accuracy: 0.8617721518987341\n",
      "Validation Loss: 0.68754745\n"
     ]
    }
   ],
   "source": [
    "print_summary('filter_32_stride_3')"
   ]
  },
  {
   "cell_type": "markdown",
   "metadata": {},
   "source": [
    "# Filter 32, Stride 4"
   ]
  },
  {
   "cell_type": "code",
   "execution_count": 11,
   "metadata": {},
   "outputs": [
    {
     "data": {
      "text/plain": [
       "8.753610000000002"
      ]
     },
     "execution_count": 11,
     "metadata": {},
     "output_type": "execute_result"
    }
   ],
   "source": [
    "times = []\n",
    "for i in range(100):\n",
    "    state = torch.load(f=os.path.join('', \"../filter_32_stride_4/saved_models/train_model_\" + str(i).format(\"train_model\", str(0))), map_location='cpu')\n",
    "    times.append(float(state['epoch_time']))\n",
    "\n",
    "np.mean(times)"
   ]
  },
  {
   "cell_type": "code",
   "execution_count": 12,
   "metadata": {},
   "outputs": [
    {
     "name": "stdout",
     "output_type": "stream",
     "text": [
      "Training Accuracy: 0.95127\n",
      "Training Loss: 0.11873166\n",
      "Validation Accuracy: 0.8618354430379748\n",
      "Validation Loss: 0.6591957\n"
     ]
    }
   ],
   "source": [
    "print_summary('filter_32_stride_4')"
   ]
  },
  {
   "cell_type": "markdown",
   "metadata": {},
   "source": [
    "# Filter 48, Stride 1"
   ]
  },
  {
   "cell_type": "code",
   "execution_count": 13,
   "metadata": {},
   "outputs": [
    {
     "data": {
      "text/plain": [
       "13.271987999999999"
      ]
     },
     "execution_count": 13,
     "metadata": {},
     "output_type": "execute_result"
    }
   ],
   "source": [
    "times = []\n",
    "for i in range(100):\n",
    "    state = torch.load(f=os.path.join('', \"../filter_48_stride_1/saved_models/train_model_\" + str(i).format(\"train_model\", str(0))), map_location='cpu')\n",
    "    times.append(float(state['epoch_time']))\n",
    "\n",
    "np.mean(times)"
   ]
  },
  {
   "cell_type": "code",
   "execution_count": 14,
   "metadata": {},
   "outputs": [
    {
     "name": "stdout",
     "output_type": "stream",
     "text": [
      "Training Accuracy: 0.9753000000000002\n",
      "Training Loss: 0.063247934\n",
      "Validation Accuracy: 0.861012658227848\n",
      "Validation Loss: 0.9797429\n"
     ]
    }
   ],
   "source": [
    "print_summary('filter_48_stride_1')"
   ]
  },
  {
   "cell_type": "markdown",
   "metadata": {},
   "source": [
    "# Filter 48, Stride 2"
   ]
  },
  {
   "cell_type": "code",
   "execution_count": 15,
   "metadata": {},
   "outputs": [
    {
     "data": {
      "text/plain": [
       "13.320861"
      ]
     },
     "execution_count": 15,
     "metadata": {},
     "output_type": "execute_result"
    }
   ],
   "source": [
    "times = []\n",
    "for i in range(100):\n",
    "    state = torch.load(f=os.path.join('', \"../filter_48_stride_2/saved_models/train_model_\" + str(i).format(\"train_model\", str(0))), map_location='cpu')\n",
    "    times.append(float(state['epoch_time']))\n",
    "\n",
    "np.mean(times)"
   ]
  },
  {
   "cell_type": "code",
   "execution_count": 16,
   "metadata": {},
   "outputs": [
    {
     "name": "stdout",
     "output_type": "stream",
     "text": [
      "Training Accuracy: 0.9767300000000001\n",
      "Training Loss: 0.058523946\n",
      "Validation Accuracy: 0.867405063291139\n",
      "Validation Loss: 0.9749954\n"
     ]
    }
   ],
   "source": [
    "print_summary('filter_48_stride_2')"
   ]
  },
  {
   "cell_type": "markdown",
   "metadata": {},
   "source": [
    "# Filter 64, Stride 1"
   ]
  },
  {
   "cell_type": "code",
   "execution_count": 17,
   "metadata": {},
   "outputs": [
    {
     "data": {
      "text/plain": [
       "17.16656"
      ]
     },
     "execution_count": 17,
     "metadata": {},
     "output_type": "execute_result"
    }
   ],
   "source": [
    "times = []\n",
    "for i in range(100):\n",
    "    state = torch.load(f=os.path.join('', \"../filter_64_stride_1/saved_models/train_model_\" + str(i).format(\"train_model\", str(0))), map_location='cpu')\n",
    "    times.append(float(state['epoch_time']))\n",
    "\n",
    "np.mean(times)"
   ]
  },
  {
   "cell_type": "code",
   "execution_count": 18,
   "metadata": {},
   "outputs": [
    {
     "name": "stdout",
     "output_type": "stream",
     "text": [
      "Training Accuracy: 0.9843200000000002\n",
      "Training Loss: 0.041512404\n",
      "Validation Accuracy: 0.8727848101265822\n",
      "Validation Loss: 1.040806\n"
     ]
    }
   ],
   "source": [
    "print_summary('filter_64_stride_1')"
   ]
  },
  {
   "cell_type": "markdown",
   "metadata": {},
   "source": [
    "# Filter 64, Stride 2 (only 60 epochs)"
   ]
  },
  {
   "cell_type": "code",
   "execution_count": 19,
   "metadata": {},
   "outputs": [
    {
     "data": {
      "text/plain": [
       "17.349304999999998"
      ]
     },
     "execution_count": 19,
     "metadata": {},
     "output_type": "execute_result"
    }
   ],
   "source": [
    "times = []\n",
    "for i in range(60):\n",
    "    state = torch.load(f=os.path.join('', \"../filter_64_stride_2/saved_models/train_model_\" + str(i).format(\"train_model\", str(0))), map_location='cpu')\n",
    "    times.append(float(state['epoch_time']))\n",
    "\n",
    "np.mean(times)"
   ]
  },
  {
   "cell_type": "code",
   "execution_count": 20,
   "metadata": {},
   "outputs": [
    {
     "name": "stdout",
     "output_type": "stream",
     "text": [
      "Training Accuracy: 0.93989\n",
      "Training Loss: 0.14391656\n",
      "Validation Accuracy: 0.8802531645569621\n",
      "Validation Loss: 0.42007378\n"
     ]
    }
   ],
   "source": [
    "print_summary('filter_64_stride_2')"
   ]
  },
  {
   "cell_type": "markdown",
   "metadata": {},
   "source": [
    "# Filter 64, Stride 3"
   ]
  },
  {
   "cell_type": "code",
   "execution_count": 21,
   "metadata": {},
   "outputs": [
    {
     "data": {
      "text/plain": [
       "17.934396"
      ]
     },
     "execution_count": 21,
     "metadata": {},
     "output_type": "execute_result"
    }
   ],
   "source": [
    "times = []\n",
    "for i in range(100):\n",
    "    state = torch.load(f=os.path.join('', \"../filter_64_stride_3/saved_models/train_model_\" + str(i).format(\"train_model\", str(0))), map_location='cpu')\n",
    "    times.append(float(state['epoch_time']))\n",
    "\n",
    "np.mean(times)"
   ]
  },
  {
   "cell_type": "code",
   "execution_count": 22,
   "metadata": {},
   "outputs": [
    {
     "name": "stdout",
     "output_type": "stream",
     "text": [
      "Training Accuracy: 0.9846000000000001\n",
      "Training Loss: 0.04211294\n",
      "Validation Accuracy: 0.8653164556962025\n",
      "Validation Loss: 1.0735285\n"
     ]
    }
   ],
   "source": [
    "print_summary('filter_64_stride_3')"
   ]
  },
  {
   "cell_type": "markdown",
   "metadata": {},
   "source": [
    "# Filter 96, Stride 4"
   ]
  },
  {
   "cell_type": "code",
   "execution_count": 23,
   "metadata": {},
   "outputs": [
    {
     "data": {
      "text/plain": [
       "32.775546"
      ]
     },
     "execution_count": 23,
     "metadata": {},
     "output_type": "execute_result"
    }
   ],
   "source": [
    "times = []\n",
    "for i in range(100):\n",
    "    state = torch.load(f=os.path.join('', \"../filter_96_stride_4/saved_models/train_model_\" + str(i).format(\"train_model\", str(0))), map_location='cpu')\n",
    "    times.append(float(state['epoch_time']))\n",
    "\n",
    "np.mean(times)"
   ]
  },
  {
   "cell_type": "code",
   "execution_count": 24,
   "metadata": {},
   "outputs": [
    {
     "name": "stdout",
     "output_type": "stream",
     "text": [
      "Training Accuracy: 0.98975\n",
      "Training Loss: 0.02876069\n",
      "Validation Accuracy: 0.869620253164557\n",
      "Validation Loss: 1.008094\n"
     ]
    }
   ],
   "source": [
    "print_summary('filter_96_stride_4')"
   ]
  },
  {
   "cell_type": "markdown",
   "metadata": {},
   "source": [
    "# Filter 128, Stride 5"
   ]
  },
  {
   "cell_type": "code",
   "execution_count": 25,
   "metadata": {},
   "outputs": [
    {
     "data": {
      "text/plain": [
       "47.275827"
      ]
     },
     "execution_count": 25,
     "metadata": {},
     "output_type": "execute_result"
    }
   ],
   "source": [
    "times = []\n",
    "for i in range(100):\n",
    "    state = torch.load(f=os.path.join('', \"../filter_128_stride_5/saved_models/train_model_\" + str(i).format(\"train_model\", str(0))), map_location='cpu')\n",
    "    times.append(float(state['epoch_time']))\n",
    "\n",
    "np.mean(times)"
   ]
  },
  {
   "cell_type": "code",
   "execution_count": 26,
   "metadata": {},
   "outputs": [
    {
     "name": "stdout",
     "output_type": "stream",
     "text": [
      "Training Accuracy: 0.9928700000000001\n",
      "Training Loss: 0.021290839\n",
      "Validation Accuracy: 0.8731645569620252\n",
      "Validation Loss: 1.0035331\n"
     ]
    }
   ],
   "source": [
    "print_summary('filter_128_stride_5')"
   ]
  },
  {
   "cell_type": "code",
   "execution_count": null,
   "metadata": {},
   "outputs": [],
   "source": []
  }
 ],
 "metadata": {
  "kernelspec": {
   "display_name": "Python 3",
   "language": "python",
   "name": "python3"
  },
  "language_info": {
   "codemirror_mode": {
    "name": "ipython",
    "version": 3
   },
   "file_extension": ".py",
   "mimetype": "text/x-python",
   "name": "python",
   "nbconvert_exporter": "python",
   "pygments_lexer": "ipython3",
   "version": "3.6.7"
  }
 },
 "nbformat": 4,
 "nbformat_minor": 2
}
