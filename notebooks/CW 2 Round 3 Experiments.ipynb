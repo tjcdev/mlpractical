{
 "cells": [
  {
   "cell_type": "code",
   "execution_count": 1,
   "metadata": {},
   "outputs": [],
   "source": [
    "from torch import nn\n",
    "from copy import deepcopy\n",
    "import torch\n",
    "import torch.nn as nn\n",
    "import torch.optim as optim\n",
    "import torch.nn.functional as F\n",
    "import torch.backends.cudnn as cudnn\n",
    "import torchvision\n",
    "import tqdm\n",
    "import os\n",
    "import numpy as np\n",
    "import time"
   ]
  },
  {
   "cell_type": "code",
   "execution_count": 2,
   "metadata": {},
   "outputs": [],
   "source": [
    "from numpy import genfromtxt\n",
    "def print_summary(experiments):\n",
    "    result = genfromtxt('../' + experiments + '/result_outputs/summary.csv', delimiter=',')\n",
    "    result = result[1:]\n",
    "    train_acc = result[:,0]\n",
    "    train_loss = result[:,1]\n",
    "    val_acc = result[:,2]\n",
    "    val_loss = result[:,3]\n",
    "    print(\"Training Accuracy: \" + str(train_acc[len(train_acc)-1]))\n",
    "    print(\"Training Loss: \" + str(train_loss[len(train_loss)-1]))\n",
    "    print(\"Validation Accuracy: \" + str(val_acc[len(val_acc)-1]))\n",
    "    print(\"Validation Loss: \" + str(val_loss[len(val_loss)-1]))"
   ]
  },
  {
   "cell_type": "markdown",
   "metadata": {},
   "source": [
    "# Max Pooling"
   ]
  },
  {
   "cell_type": "code",
   "execution_count": 3,
   "metadata": {},
   "outputs": [
    {
     "data": {
      "text/plain": [
       "13.2834025"
      ]
     },
     "execution_count": 3,
     "metadata": {},
     "output_type": "execute_result"
    }
   ],
   "source": [
    "times = []\n",
    "for i in range(40):\n",
    "    state = torch.load(f=os.path.join('', \"../max_pooling_1/saved_models/train_model_\" + str(i).format(\"train_model\", str(0))), map_location='cpu')\n",
    "    times.append(float(state['epoch_time']))\n",
    "\n",
    "np.mean(times)"
   ]
  },
  {
   "cell_type": "code",
   "execution_count": 4,
   "metadata": {},
   "outputs": [
    {
     "name": "stdout",
     "output_type": "stream",
     "text": [
      "Training Accuracy: 0.9755100000000002\n",
      "Training Loss: 0.061302595\n",
      "Validation Accuracy: 0.8663291139240504\n",
      "Validation Loss: 0.9724778\n"
     ]
    }
   ],
   "source": [
    "print_summary('max_pooling_1')"
   ]
  },
  {
   "cell_type": "markdown",
   "metadata": {},
   "source": [
    "# Avg. Pooling"
   ]
  },
  {
   "cell_type": "code",
   "execution_count": 5,
   "metadata": {},
   "outputs": [
    {
     "data": {
      "text/plain": [
       "13.5748475"
      ]
     },
     "execution_count": 5,
     "metadata": {},
     "output_type": "execute_result"
    }
   ],
   "source": [
    "times = []\n",
    "for i in range(40):\n",
    "    state = torch.load(f=os.path.join('', \"../avg_pooling_1/saved_models/train_model_\" + str(i).format(\"train_model\", str(0))), map_location='cpu')\n",
    "    times.append(float(state['epoch_time']))\n",
    "\n",
    "np.mean(times)"
   ]
  },
  {
   "cell_type": "code",
   "execution_count": 6,
   "metadata": {},
   "outputs": [
    {
     "name": "stdout",
     "output_type": "stream",
     "text": [
      "Training Accuracy: 0.94505\n",
      "Training Loss: 0.13152565\n",
      "Validation Accuracy: 0.8720253164556963\n",
      "Validation Loss: 0.49613363\n"
     ]
    }
   ],
   "source": [
    "print_summary('avg_pooling_1')"
   ]
  },
  {
   "cell_type": "markdown",
   "metadata": {},
   "source": [
    "# Our Model"
   ]
  },
  {
   "cell_type": "code",
   "execution_count": null,
   "metadata": {},
   "outputs": [],
   "source": []
  }
 ],
 "metadata": {
  "kernelspec": {
   "display_name": "Python 3",
   "language": "python",
   "name": "python3"
  },
  "language_info": {
   "codemirror_mode": {
    "name": "ipython",
    "version": 3
   },
   "file_extension": ".py",
   "mimetype": "text/x-python",
   "name": "python",
   "nbconvert_exporter": "python",
   "pygments_lexer": "ipython3",
   "version": "3.6.7"
  }
 },
 "nbformat": 4,
 "nbformat_minor": 2
}
