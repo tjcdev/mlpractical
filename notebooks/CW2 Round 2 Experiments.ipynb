{
 "cells": [
  {
   "cell_type": "code",
   "execution_count": 1,
   "metadata": {},
   "outputs": [],
   "source": [
    "from torch import nn\n",
    "from copy import deepcopy\n",
    "import torch\n",
    "import torch.nn as nn\n",
    "import torch.optim as optim\n",
    "import torch.nn.functional as F\n",
    "import torch.backends.cudnn as cudnn\n",
    "import torchvision\n",
    "import tqdm\n",
    "import os\n",
    "import numpy as np\n",
    "import time"
   ]
  },
  {
   "cell_type": "code",
   "execution_count": 2,
   "metadata": {},
   "outputs": [],
   "source": [
    "from numpy import genfromtxt\n",
    "def print_summary(experiments):\n",
    "    result = genfromtxt('../' + experiments + '/result_outputs/summary.csv', delimiter=',')\n",
    "    result = result[1:]\n",
    "    train_acc = result[:,0]\n",
    "    train_loss = result[:,1]\n",
    "    val_acc = result[:,2]\n",
    "    val_loss = result[:,3]\n",
    "    print(\"Training Accuracy: \" + str(train_acc[len(train_acc)-1]))\n",
    "    print(\"Training Loss: \" + str(train_loss[len(train_loss)-1]))\n",
    "    print(\"Validation Accuracy: \" + str(val_acc[len(val_acc)-1]))\n",
    "    print(\"Validation Loss: \" + str(val_loss[len(val_loss)-1]))"
   ]
  },
  {
   "cell_type": "markdown",
   "metadata": {},
   "source": [
    "# Filter 64, Stride 3"
   ]
  },
  {
   "cell_type": "code",
   "execution_count": 7,
   "metadata": {},
   "outputs": [
    {
     "data": {
      "text/plain": [
       "15.7138825"
      ]
     },
     "execution_count": 7,
     "metadata": {},
     "output_type": "execute_result"
    }
   ],
   "source": [
    "times = []\n",
    "for i in range(40):\n",
    "    state = torch.load(f=os.path.join('', \"../round_2_filter_64_stride_3/saved_models/train_model_\" + str(i).format(\"train_model\", str(0))), map_location='cpu')\n",
    "    times.append(float(state['epoch_time']))\n",
    "\n",
    "np.mean(times)"
   ]
  },
  {
   "cell_type": "code",
   "execution_count": 8,
   "metadata": {},
   "outputs": [
    {
     "name": "stdout",
     "output_type": "stream",
     "text": [
      "Training Accuracy: 0.9531900000000001\n",
      "Training Loss: 0.116830334\n",
      "Validation Accuracy: 0.8705063291139242\n",
      "Validation Loss: 0.6175537\n"
     ]
    }
   ],
   "source": [
    "print_summary('round_2_filter_64_stride_3')"
   ]
  },
  {
   "cell_type": "markdown",
   "metadata": {},
   "source": [
    "# Filter 64, Stride 4"
   ]
  },
  {
   "cell_type": "code",
   "execution_count": 5,
   "metadata": {},
   "outputs": [
    {
     "data": {
      "text/plain": [
       "13.1827675"
      ]
     },
     "execution_count": 5,
     "metadata": {},
     "output_type": "execute_result"
    }
   ],
   "source": [
    "times = []\n",
    "for i in range(40):\n",
    "    state = torch.load(f=os.path.join('', \"../round_2_filter_64_stride_4/saved_models/train_model_\" + str(i).format(\"train_model\", str(0))), map_location='cpu')\n",
    "    times.append(float(state['epoch_time']))\n",
    "\n",
    "np.mean(times)"
   ]
  },
  {
   "cell_type": "code",
   "execution_count": 6,
   "metadata": {},
   "outputs": [
    {
     "name": "stdout",
     "output_type": "stream",
     "text": [
      "Training Accuracy: 0.9391799999999999\n",
      "Training Loss: 0.15109906\n",
      "Validation Accuracy: 0.8636075949367088\n",
      "Validation Loss: 0.5569008\n"
     ]
    }
   ],
   "source": [
    "print_summary('round_2_filter_64_stride_4')"
   ]
  },
  {
   "cell_type": "markdown",
   "metadata": {},
   "source": [
    "# Filter 64, Stride 5"
   ]
  },
  {
   "cell_type": "code",
   "execution_count": 9,
   "metadata": {},
   "outputs": [
    {
     "data": {
      "text/plain": [
       "13.191592500000002"
      ]
     },
     "execution_count": 9,
     "metadata": {},
     "output_type": "execute_result"
    }
   ],
   "source": [
    "times = []\n",
    "for i in range(40):\n",
    "    state = torch.load(f=os.path.join('', \"../round_2_filter_64_stride_5/saved_models/train_model_\" + str(i).format(\"train_model\", str(0))), map_location='cpu')\n",
    "    times.append(float(state['epoch_time']))\n",
    "\n",
    "np.mean(times)"
   ]
  },
  {
   "cell_type": "code",
   "execution_count": 10,
   "metadata": {},
   "outputs": [
    {
     "name": "stdout",
     "output_type": "stream",
     "text": [
      "Training Accuracy: 0.9357300000000001\n",
      "Training Loss: 0.15771997\n",
      "Validation Accuracy: 0.8560759493670885\n",
      "Validation Loss: 0.60009015\n"
     ]
    }
   ],
   "source": [
    "print_summary('round_2_filter_64_stride_5')"
   ]
  },
  {
   "cell_type": "markdown",
   "metadata": {},
   "source": [
    "# Filter 48, Stride 3"
   ]
  },
  {
   "cell_type": "code",
   "execution_count": 17,
   "metadata": {},
   "outputs": [
    {
     "data": {
      "text/plain": [
       "12.5995625"
      ]
     },
     "execution_count": 17,
     "metadata": {},
     "output_type": "execute_result"
    }
   ],
   "source": [
    "times = []\n",
    "for i in range(40):\n",
    "    state = torch.load(f=os.path.join('', \"../round_2_filter_48_stride_3/saved_models/train_model_\" + str(i).format(\"train_model\", str(0))), map_location='cpu')\n",
    "    times.append(float(state['epoch_time']))\n",
    "\n",
    "np.mean(times)"
   ]
  },
  {
   "cell_type": "code",
   "execution_count": 18,
   "metadata": {},
   "outputs": [
    {
     "name": "stdout",
     "output_type": "stream",
     "text": [
      "Training Accuracy: 0.93982\n",
      "Training Loss: 0.14477175\n",
      "Validation Accuracy: 0.8701265822784812\n",
      "Validation Loss: 0.5345538\n"
     ]
    }
   ],
   "source": [
    "print_summary('round_2_filter_48_stride_3')"
   ]
  },
  {
   "cell_type": "markdown",
   "metadata": {},
   "source": [
    "# Filter 48, Stride 4"
   ]
  },
  {
   "cell_type": "code",
   "execution_count": 11,
   "metadata": {},
   "outputs": [
    {
     "data": {
      "text/plain": [
       "10.522794999999999"
      ]
     },
     "execution_count": 11,
     "metadata": {},
     "output_type": "execute_result"
    }
   ],
   "source": [
    "times = []\n",
    "for i in range(40):\n",
    "    state = torch.load(f=os.path.join('', \"../round_2_filter_48_stride_4/saved_models/train_model_\" + str(i).format(\"train_model\", str(0))), map_location='cpu')\n",
    "    times.append(float(state['epoch_time']))\n",
    "\n",
    "np.mean(times)"
   ]
  },
  {
   "cell_type": "code",
   "execution_count": 12,
   "metadata": {},
   "outputs": [
    {
     "name": "stdout",
     "output_type": "stream",
     "text": [
      "Training Accuracy: 0.92717\n",
      "Training Loss: 0.18379767\n",
      "Validation Accuracy: 0.8625949367088607\n",
      "Validation Loss: 0.521581\n"
     ]
    }
   ],
   "source": [
    "print_summary('round_2_filter_48_stride_4')"
   ]
  },
  {
   "cell_type": "markdown",
   "metadata": {},
   "source": [
    "# Filter 48, Stride 5"
   ]
  },
  {
   "cell_type": "code",
   "execution_count": 19,
   "metadata": {},
   "outputs": [
    {
     "data": {
      "text/plain": [
       "10.5419025"
      ]
     },
     "execution_count": 19,
     "metadata": {},
     "output_type": "execute_result"
    }
   ],
   "source": [
    "times = []\n",
    "for i in range(40):\n",
    "    state = torch.load(f=os.path.join('', \"../round_2_filter_48_stride_5/saved_models/train_model_\" + str(i).format(\"train_model\", str(0))), map_location='cpu')\n",
    "    times.append(float(state['epoch_time']))\n",
    "\n",
    "np.mean(times)"
   ]
  },
  {
   "cell_type": "code",
   "execution_count": 20,
   "metadata": {},
   "outputs": [
    {
     "name": "stdout",
     "output_type": "stream",
     "text": [
      "Training Accuracy: 0.02133\n",
      "Training Loss: 3.8501475\n",
      "Validation Accuracy: 0.020759493670886076\n",
      "Validation Loss: 3.850148\n"
     ]
    }
   ],
   "source": [
    "print_summary('round_2_filter_48_stride_5')"
   ]
  },
  {
   "cell_type": "markdown",
   "metadata": {},
   "source": [
    "# Filter 64, Dilation 4"
   ]
  },
  {
   "cell_type": "code",
   "execution_count": 13,
   "metadata": {},
   "outputs": [
    {
     "data": {
      "text/plain": [
       "45.294844999999995"
      ]
     },
     "execution_count": 13,
     "metadata": {},
     "output_type": "execute_result"
    }
   ],
   "source": [
    "times = []\n",
    "for i in range(40):\n",
    "    state = torch.load(f=os.path.join('', \"../round_2_filter_64_dil_4/saved_models/train_model_\" + str(i).format(\"train_model\", str(0))), map_location='cpu')\n",
    "    times.append(float(state['epoch_time']))\n",
    "\n",
    "np.mean(times)"
   ]
  },
  {
   "cell_type": "code",
   "execution_count": 14,
   "metadata": {},
   "outputs": [
    {
     "name": "stdout",
     "output_type": "stream",
     "text": [
      "Training Accuracy: 0.96624\n",
      "Training Loss: 0.08422262\n",
      "Validation Accuracy: 0.8753797468354431\n",
      "Validation Loss: 0.6796649\n"
     ]
    }
   ],
   "source": [
    "print_summary('round_2_filter_64_dil_4')"
   ]
  },
  {
   "cell_type": "markdown",
   "metadata": {},
   "source": [
    "# Filter 48, Dilation 4"
   ]
  },
  {
   "cell_type": "code",
   "execution_count": 15,
   "metadata": {},
   "outputs": [
    {
     "data": {
      "text/plain": [
       "33.258285"
      ]
     },
     "execution_count": 15,
     "metadata": {},
     "output_type": "execute_result"
    }
   ],
   "source": [
    "times = []\n",
    "for i in range(40):\n",
    "    state = torch.load(f=os.path.join('', \"../round_2_filter_48_dil_4/saved_models/train_model_\" + str(i).format(\"train_model\", str(0))), map_location='cpu')\n",
    "    times.append(float(state['epoch_time']))\n",
    "\n",
    "np.mean(times)"
   ]
  },
  {
   "cell_type": "code",
   "execution_count": 16,
   "metadata": {},
   "outputs": [
    {
     "name": "stdout",
     "output_type": "stream",
     "text": [
      "Training Accuracy: 0.9589300000000001\n",
      "Training Loss: 0.10265419\n",
      "Validation Accuracy: 0.8724683544303798\n",
      "Validation Loss: 0.6151958\n"
     ]
    }
   ],
   "source": [
    "print_summary('round_2_filter_48_dil_4')"
   ]
  },
  {
   "cell_type": "code",
   "execution_count": null,
   "metadata": {},
   "outputs": [],
   "source": []
  }
 ],
 "metadata": {
  "kernelspec": {
   "display_name": "Python 3",
   "language": "python",
   "name": "python3"
  },
  "language_info": {
   "codemirror_mode": {
    "name": "ipython",
    "version": 3
   },
   "file_extension": ".py",
   "mimetype": "text/x-python",
   "name": "python",
   "nbconvert_exporter": "python",
   "pygments_lexer": "ipython3",
   "version": "3.6.7"
  }
 },
 "nbformat": 4,
 "nbformat_minor": 2
}
